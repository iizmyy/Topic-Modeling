{
 "cells": [
  {
   "cell_type": "code",
   "execution_count": 75,
   "metadata": {},
   "outputs": [],
   "source": [
    "from bs4 import BeautifulSoup\n",
    "from selenium import webdriver\n",
    "import pandas as pd\n",
    "import time\n",
    "\n",
    "# Add chromedriver to path in LINUX\n",
    "# sudo ln -s /home/izmy/Blog/chromedriver /usr/bin/\n",
    "driver = webdriver.Chrome(executable_path='chromedriver')\n",
    "\n",
    "#url = \"https://www.tripadvisor.co.id/Attraction_Review-g297720-d1599792-Reviews-Fort_Rotterdam-Makassar_South_Sulawesi_Sulawesi.html\"\n",
    "#url = \"https://www.tripadvisor.co.id/Attraction_Review-g297720-d1599792-Reviews-or60-Fort_Rotterdam-Makassar_South_Sulawesi_Sulawesi.html\"\n",
    "#url = \"https://www.tripadvisor.co.id/Attraction_Review-g297720-d13195841-Reviews-Mall_Phinisi_Point-Makassar_South_Sulawesi_Sulawesi.html\"\n",
    "#url = \"https://www.tripadvisor.co.id/Attraction_Review-g297720-d13195841-Reviews-or20-Mall_Phinisi_Point-Makassar_South_Sulawesi_Sulawesi.html\"\n",
    "urls = [\"https://www.tripadvisor.co.id/Attraction_Review-g297720-d8627330-Reviews-Mall_Ratu_Indah-Makassar_South_Sulawesi_Sulawesi.html\",\n",
    "        \"https://www.tripadvisor.co.id/Attraction_Review-g297720-d8627330-Reviews-or10-Mall_Ratu_Indah-Makassar_South_Sulawesi_Sulawesi.html\",\n",
    "        \"https://www.tripadvisor.co.id/Attraction_Review-g297720-d8627330-Reviews-or20-Mall_Ratu_Indah-Makassar_South_Sulawesi_Sulawesi.html\",\n",
    "        \"https://www.tripadvisor.co.id/Attraction_Review-g297720-d8627330-Reviews-or30-Mall_Ratu_Indah-Makassar_South_Sulawesi_Sulawesi.html\",\n",
    "        \"https://www.tripadvisor.co.id/Attraction_Review-g297720-d8627330-Reviews-or40-Mall_Ratu_Indah-Makassar_South_Sulawesi_Sulawesi.html\"\n",
    "        ]\n",
    "for url in urls :\n",
    "    driver.get(url)\n",
    "    time.sleep(10)\n",
    "    soup = BeautifulSoup(driver.page_source, 'html.parser')\n",
    "    time.sleep(3)\n",
    "    #driver.quit()\n",
    "    reviews = soup.select(\"div.pIRBV._T.KRIav\")\n",
    "\n",
    "    r = [review.find(\"span\").text for review in reviews]\n",
    "\n",
    "    # menyimpan ke dataframe\n",
    "    df = pd.DataFrame(r,columns=[\"review\"])\n",
    "    #print(df)\n",
    "\n",
    "    # Review tambahkan ke file\n",
    "    #df.to_csv('reviewphinisi.csv', mode='a', header=False)\n",
    "    df.to_csv('reviewMari.csv', mode='a', header=False)\n",
    "driver.quit()"
   ]
  },
  {
   "cell_type": "code",
   "execution_count": 2,
   "metadata": {},
   "outputs": [
    {
     "name": "stdout",
     "output_type": "stream",
     "text": [
      "Collecting webdriver-manager\n",
      "  Downloading webdriver_manager-3.5.3-py2.py3-none-any.whl (18 kB)\n",
      "Requirement already satisfied: requests in /home/izmy/anaconda3/lib/python3.8/site-packages (from webdriver-manager) (2.24.0)\n",
      "Collecting crayons\n",
      "  Downloading crayons-0.4.0-py2.py3-none-any.whl (4.6 kB)\n",
      "Collecting configparser\n",
      "  Downloading configparser-5.2.0-py3-none-any.whl (19 kB)\n",
      "Requirement already satisfied: urllib3!=1.25.0,!=1.25.1,<1.26,>=1.21.1 in /home/izmy/anaconda3/lib/python3.8/site-packages (from requests->webdriver-manager) (1.25.9)\n",
      "Requirement already satisfied: chardet<4,>=3.0.2 in /home/izmy/anaconda3/lib/python3.8/site-packages (from requests->webdriver-manager) (3.0.4)\n",
      "Requirement already satisfied: idna<3,>=2.5 in /home/izmy/anaconda3/lib/python3.8/site-packages (from requests->webdriver-manager) (2.10)\n",
      "Requirement already satisfied: certifi>=2017.4.17 in /home/izmy/anaconda3/lib/python3.8/site-packages (from requests->webdriver-manager) (2020.6.20)\n",
      "Requirement already satisfied: colorama in /home/izmy/anaconda3/lib/python3.8/site-packages (from crayons->webdriver-manager) (0.4.3)\n",
      "Installing collected packages: crayons, configparser, webdriver-manager\n",
      "Successfully installed configparser-5.2.0 crayons-0.4.0 webdriver-manager-3.5.3\n",
      "Note: you may need to restart the kernel to use updated packages.\n"
     ]
    }
   ],
   "source": [
    "pip install webdriver-manager"
   ]
  },
  {
   "cell_type": "code",
   "execution_count": 2,
   "metadata": {},
   "outputs": [
    {
     "name": "stderr",
     "output_type": "stream",
     "text": [
      "\n",
      "\n",
      "====== WebDriver manager ======\n",
      "Current google-chrome version is 98.0.4758\n",
      "Get LATEST chromedriver version for 98.0.4758 google-chrome\n",
      "Driver [/home/izmy/.wdm/drivers/chromedriver/linux64/98.0.4758.102/chromedriver] found in cache\n"
     ]
    }
   ],
   "source": [
    "from selenium import webdriver\n",
    "from webdriver_manager.chrome import ChromeDriverManager\n",
    "\n",
    "driver = webdriver.Chrome(ChromeDriverManager().install())"
   ]
  },
  {
   "cell_type": "code",
   "execution_count": 64,
   "metadata": {},
   "outputs": [
    {
     "name": "stdout",
     "output_type": "stream",
     "text": [
      "https://www.tripadvisor.co.id/Attraction_Review-g297720-d2716851-Reviews-or120-Trans_Studio_Makassar-Makassar_South_Sulawesi_Sulawesi.html\n",
      "https://www.tripadvisor.co.id/Attraction_Review-g297720-d2716851-Reviews-or130-Trans_Studio_Makassar-Makassar_South_Sulawesi_Sulawesi.html\n",
      "https://www.tripadvisor.co.id/Attraction_Review-g297720-d2716851-Reviews-or140-Trans_Studio_Makassar-Makassar_South_Sulawesi_Sulawesi.html\n"
     ]
    }
   ],
   "source": []
  },
  {
   "cell_type": "code",
   "execution_count": null,
   "metadata": {},
   "outputs": [],
   "source": []
  }
 ],
 "metadata": {
  "kernelspec": {
   "display_name": "Python 3 (ipykernel)",
   "language": "python",
   "name": "python3"
  },
  "language_info": {
   "codemirror_mode": {
    "name": "ipython",
    "version": 3
   },
   "file_extension": ".py",
   "mimetype": "text/x-python",
   "name": "python",
   "nbconvert_exporter": "python",
   "pygments_lexer": "ipython3",
   "version": "3.8.3"
  }
 },
 "nbformat": 4,
 "nbformat_minor": 4
}
